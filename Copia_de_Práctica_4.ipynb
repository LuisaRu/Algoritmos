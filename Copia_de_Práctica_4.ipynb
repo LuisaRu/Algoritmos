{
  "nbformat": 4,
  "nbformat_minor": 0,
  "metadata": {
    "colab": {
      "name": "Copia de Práctica 4.ipynb",
      "provenance": [],
      "collapsed_sections": [],
      "toc_visible": true
    },
    "kernelspec": {
      "name": "python3",
      "display_name": "Python 3"
    }
  },
  "cells": [
    {
      "cell_type": "code",
      "metadata": {
        "id": "oKoq7fK0moOX",
        "colab": {
          "base_uri": "https://localhost:8080/"
        },
        "outputId": "d5d58f50-7f06-409e-da11-4af3b5ec0aa2"
      },
      "source": [
        "!pip install big-O-calculator"
      ],
      "execution_count": 1,
      "outputs": [
        {
          "output_type": "stream",
          "text": [
            "Collecting big-O-calculator\n",
            "  Downloading https://files.pythonhosted.org/packages/f3/e1/8abcd5ba0b2c249d25c1f16cc8aa9838c993061ce322b0ac5ed42251a5d0/big_O_calculator-0.0.9.8.2-py3-none-any.whl\n",
            "Installing collected packages: big-O-calculator\n",
            "Successfully installed big-O-calculator-0.0.9.8.2\n"
          ],
          "name": "stdout"
        }
      ]
    },
    {
      "cell_type": "markdown",
      "metadata": {
        "id": "WysWQLX-uYK8"
      },
      "source": [
        "### Big-O calculator definition"
      ]
    },
    {
      "cell_type": "markdown",
      "metadata": {
        "id": "-yMEge60syiw"
      },
      "source": [
        "### Library"
      ]
    },
    {
      "cell_type": "code",
      "metadata": {
        "id": "wbOvqGF4ptED"
      },
      "source": [
        "from bigO import bigO\n",
        "from random import randint"
      ],
      "execution_count": 3,
      "outputs": []
    },
    {
      "cell_type": "markdown",
      "metadata": {
        "id": "tlksRhP8ckgF"
      },
      "source": [
        "#**Linear search**"
      ]
    },
    {
      "cell_type": "markdown",
      "metadata": {
        "id": "H35EjLY0crhS"
      },
      "source": [
        "### Code"
      ]
    },
    {
      "cell_type": "markdown",
      "metadata": {
        "id": "9CzhHv2gd22K"
      },
      "source": [
        "El código fue recuperado de: [La Web del Programador](https://www.lawebdelprogramador.com/codigo/Python/4738-Algoritmo-de-busqueda-lineal.html#:~:text=El%20algoritmo%20de%20b%C3%BAsqueda%20lineal,optimo%20cuando%20hay%20muchos%20elementos.)"
      ]
    },
    {
      "cell_type": "code",
      "metadata": {
        "id": "ALlpv1qYczUB",
        "colab": {
          "base_uri": "https://localhost:8080/"
        },
        "outputId": "5179da8f-a838-4e6d-9f14-6647407a4430"
      },
      "source": [
        "valores=[0,1,2,3,4,5,6,7,8,9,10,11,12,13,14,15,16,17,18,19,20,21]\n",
        "\n",
        "def busquedaLineal(buscar):\n",
        " \n",
        "    # recorremos el array uno a uno hasta encontrar el que buscamos\n",
        "    for i in range(len(valores)):\n",
        "        if valores[i]==buscar:\n",
        "            return (True,i+1)\n",
        " \n",
        "    return (False,i+1)\n",
        " \n",
        "while True:\n",
        "    buscar=input(\"indica un numero a buscar: \")\n",
        "    if buscar==\"\":\n",
        "        break\n",
        " \n",
        "    try:\n",
        "        buscar=int(buscar)\n",
        "    except:\n",
        "        print(\"El valor tienes que ser numero entre 0 y 9\")\n",
        "        continue\n",
        " \n",
        "    conseguido,iteraciones=busquedaLineal(buscar)\n",
        "    if conseguido:\n",
        "        print(\"Encontrado en {} iteraciones\".format(iteraciones))\n",
        "        break\n",
        "    else:\n",
        "        print(\"El valor introducido no se encuentra en la lista de valores. Se han necesitado {} iteraciones\".format(iteraciones))\n",
        "        break"
      ],
      "execution_count": 4,
      "outputs": [
        {
          "output_type": "stream",
          "text": [
            "indica un numero a buscar: 7\n",
            "Encontrado en 8 iteraciones\n"
          ],
          "name": "stdout"
        }
      ]
    },
    {
      "cell_type": "markdown",
      "metadata": {
        "id": "cYCwLit5c6hL"
      },
      "source": [
        "### tester"
      ]
    },
    {
      "cell_type": "code",
      "metadata": {
        "colab": {
          "base_uri": "https://localhost:8080/"
        },
        "id": "fMGDrrgIeWWM",
        "outputId": "bd506aab-c9c7-4622-a78f-58e4a5a47d22"
      },
      "source": [
        "tester = bigO()\n",
        "complexity, time = tester.test(busquedaLineal, \"random\")\n",
        "complexity, time = tester.test(busquedaLineal, \"sorted\")\n",
        "complexity, time = tester.test(busquedaLineal, \"reversed\")\n",
        "complexity, time = tester.test(busquedaLineal, \"partial\")\n",
        "complexity, time = tester.test(busquedaLineal, \"Ksorted\")"
      ],
      "execution_count": 5,
      "outputs": [
        {
          "output_type": "stream",
          "text": [
            "Running busquedaLineal(random array)...\n",
            "Completed busquedaLineal(random array): O(1)\n",
            "Time took: 0.00001s\n",
            "Running busquedaLineal(sorted array)...\n",
            "Completed busquedaLineal(sorted array): O(n^2)\n",
            "Time took: 0.00006s\n",
            "Running busquedaLineal(reversed array)...\n",
            "Completed busquedaLineal(reversed array): O(1)\n",
            "Time took: 0.00001s\n",
            "Running busquedaLineal(partial array)...\n",
            "Completed busquedaLineal(partial array): O(log(n)\n",
            "Time took: 0.00001s\n",
            "Running busquedaLineal(Ksorted array)...\n",
            "Completed busquedaLineal(ksorted array): O(1)\n",
            "Time took: 0.00001s\n"
          ],
          "name": "stdout"
        }
      ]
    },
    {
      "cell_type": "markdown",
      "metadata": {
        "id": "ieG8euzfdJCS"
      },
      "source": [
        "### test_all()"
      ]
    },
    {
      "cell_type": "code",
      "metadata": {
        "colab": {
          "base_uri": "https://localhost:8080/"
        },
        "id": "jJr_DIxsdOLh",
        "outputId": "98e457b1-ca9f-4424-9e34-e9e9e9c3470b"
      },
      "source": [
        "tester=bigO()\n",
        "\n",
        "tester.test_all(busquedaLineal)"
      ],
      "execution_count": 6,
      "outputs": [
        {
          "output_type": "stream",
          "text": [
            "Running busquedaLineal(tests)\n",
            "Best : O(1) Time\n",
            "Average : O(1) Time\n",
            "Worst : O(log(n) Time\n"
          ],
          "name": "stdout"
        },
        {
          "output_type": "execute_result",
          "data": {
            "text/plain": [
              "{'Ksorted': 'O(1)',\n",
              " 'almost_equal': 'O(1)',\n",
              " 'partial': 'O(log(n)',\n",
              " 'random': 'O(1)',\n",
              " 'reversed': 'O(1)',\n",
              " 'sorted': 'O(1)'}"
            ]
          },
          "metadata": {
            "tags": []
          },
          "execution_count": 6
        }
      ]
    },
    {
      "cell_type": "markdown",
      "metadata": {
        "id": "LrURn2cCdSf4"
      },
      "source": [
        "### runtime()"
      ]
    },
    {
      "cell_type": "code",
      "metadata": {
        "colab": {
          "base_uri": "https://localhost:8080/"
        },
        "id": "KtM1MVoedRmh",
        "outputId": "2a382692-ad05-4283-cd51-9ceb2e2afd74"
      },
      "source": [
        "test = bigO()\n",
        "\n",
        "timeTook, result = test.runtime(busquedaLineal, \"random\", 5000)\n",
        "\n",
        "custom = [\"abc\", \"bbc\", \"ccd\", \"ef\", \"az\"]\n",
        "\n",
        "timeTook, result = test.runtime(busquedaLineal, custom)"
      ],
      "execution_count": 7,
      "outputs": [
        {
          "output_type": "stream",
          "text": [
            "Running busquedaLineal(len 5000 random array)\n",
            "Took 0.00001s to sort busquedaLineal(random)\n",
            "Running busquedaLineal(len 5 custom array)\n",
            "Took 0.00000s to sort busquedaLineal(custom)\n"
          ],
          "name": "stdout"
        }
      ]
    }
  ]
}